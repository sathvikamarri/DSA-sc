{
 "cells": [
  {
   "cell_type": "markdown",
   "metadata": {},
   "source": [
    "<CENTER><img src=\"http://opendata.atlas.cern/DataAndTools/pictures/ATLASOD.gif\" style=\"width:50%\"></CENTER>"
   ]
  },
  {
   "cell_type": "markdown",
   "metadata": {},
   "source": [
    " "
   ]
  },
  {
   "cell_type": "markdown",
   "metadata": {},
   "source": [
    " "
   ]
  },
  {
   "cell_type": "markdown",
   "metadata": {},
   "source": [
    "<CENTER><h1> Analysis Techniques used in Experimental Particle Physics</h1></CENTER>"
   ]
  },
  {
   "cell_type": "markdown",
   "metadata": {},
   "source": [
    "<p style='text-align: justify;'>\n",
    "A set of pp collision data has been released by the ATLAS Collaboration to the public for educational purposes. The general aim of the 13 TeV ATLAS Open Data and tools released is to provide a straightforward interface to replicate the procedures used by high-energy-physics researchers and enable users to experience the analysis of particle physics data in educational environments.\n",
    "</p>\n",
    "\n",
    "Let's take a current ATLAS Open Data sample and create histograms.\n"
   ]
  },
  {
   "cell_type": "markdown",
   "metadata": {},
   "source": [
    "### Import some Python packages\n",
    "\n",
    "<p style='text-align: justify;'>\n",
    "We organize a large number of files in different folders and subfolders based on some criteria, so that we can find and manage them easily. A package is a hierarchical file directory structure that defines a single Python application environment that consists of modules and subpackages.\n",
    "</p>\n",
    "\n",
    "<p style='text-align: justify;'>\n",
    "A module allows you to logically organize your Python code. Grouping related code into a module makes the code easier to understand and use. A module can define functions, classes and variables. A module can also include runnable code.\n",
    "</p>\n",
    "\n",
    "<p style='text-align: justify;'>\n",
    "The <strong>OS module</strong> in Python provides functions for interacting with the operating system. OS comes under Python’s standard utility modules. This module provides a portable way of using operating system-dependent functionality.It is possible to automatically perform many operating system tasks. The OS module provides functions for creating and removing a directory (folder), fetching its contents, changing and identifying the current directory, etc.\n",
    "</p>\n",
    "\n",
    "<p style='text-align: justify;'>\n",
    "The <strong>datetime module</strong> supplies classes for manipulating dates and times. These classes provide a number of functions to deal with dates, times and time intervals. Date and datetime are an object in Python, so when you manipulate them, you are actually manipulating objects and not string or timestamps. \n",
    "</p>\n",
    "\n",
    "<p style='text-align: justify;'>\n",
    "With PyROOT, ROOT’s Python-C++ bindings, you can use <strong>ROOT</strong> from Python. PyROOT is HEP’s entrance to all C++ from Python, for example, for frameworks and their steering code. The PyROOT bindings are automatic and dynamic: no pre-generation of Python wrappers is necessary. With PyROOT you can access the full ROOT functionality from Python while benefiting from the performance of the ROOT C++ libraries.\n",
    "</p>\n",
    "\n",
    "\n",
    "**TMath** encapsulate most frequently used Math functions. The basic functions Min, Max, Abs and Sign are defined in TMathBase.\n",
    "\n",
    "<p style='text-align: justify;'>\n",
    "The <strong>pandas</strong> library is a Python library that serves as a tool for reading, writing and manipulating data in the form of DataFrames and Series objects. It will not be used to running or plotting the Analysis, but to read the ATLAS Open Data database with the descriptions of the analysis that can be done in this notebook.\n",
    "</p>\n",
    "\n",
    "<p style='text-align: justify;'>\n",
    "Finally, <strong>matplotlib.pyplot</strong> is a collection of functions that make matplotlib work like MATLAB. Each pyplot function makes some change to a figure: e.g., creates a figure, creates a plotting area in a figure, plots some lines in a plotting area, decorates the plot with labels, etc.\n",
    "<p/>\n",
    "\n",
    "#### Install modules or packages in python\n",
    "\n",
    "To run from the virtual machine it is not necessary to install any package because the necessary ones are already installed.\n",
    "\n",
    "In case you need to install a package: **!pip install pandas**"
   ]
  },
  {
   "cell_type": "code",
   "execution_count": null,
   "metadata": {},
   "outputs": [],
   "source": [
    "import os\n",
    "import datetime\n",
    "import ROOT\n",
    "from ROOT import TMath\n",
    "import pandas as pd\n",
    "import matplotlib.pyplot as plt"
   ]
  },
  {
   "cell_type": "markdown",
   "metadata": {},
   "source": [
    "<p style='text-align: justify;'>\n",
    "One of the classes defined in the datetime module is datetime class. Its a combination of date and time along with the attributes year, month, day, hour, minute, second, microsecond, and tzinfo. We then used now() method to create a datetime object containing the current local date and time.\n",
    "</p>\n"
   ]
  },
  {
   "cell_type": "code",
   "execution_count": null,
   "metadata": {},
   "outputs": [],
   "source": [
    "starttime = datetime.datetime.now()\n",
    "print(starttime)"
   ]
  },
  {
   "cell_type": "markdown",
   "metadata": {},
   "source": [
    "<p style='text-align: justify;'>\n",
    "<strong>os.popen():</strong> This method opens a pipe to or from command. The return value can be read or written depending on whether mode is ‘r’ or ‘w’. The mode parameter is not required, if not provided, the default \"r\" is taken for the mode. \n",
    "</p>"
   ]
  },
  {
   "cell_type": "code",
   "execution_count": null,
   "metadata": {},
   "outputs": [],
   "source": [
    "myCmd = os.popen('date').read()\n",
    "print(myCmd)"
   ]
  },
  {
   "cell_type": "markdown",
   "metadata": {},
   "source": [
    "## Get the code the 13TeV analysis\n",
    "\n",
    "<p style='text-align: justify;'>\n",
    "Create folder named <strong>'atlas-data'</strong> where the information of twelve physics analysis examples inspired by the published results of ATLAS Collaboration will be cloned and stored to demonstrate the wide range of scenarios. The folder will be created and the data will be cloned only the first time the notebook is run.\n",
    "</p>\n",
    "\n",
    "Setting the path as a variable. To get the location of the current working directory <strong>os.getcwd()</strong> is used."
   ]
  },
  {
   "cell_type": "code",
   "execution_count": null,
   "metadata": {},
   "outputs": [],
   "source": [
    "directory0 = os.getcwd()\n",
    "print(directory0)"
   ]
  },
  {
   "cell_type": "markdown",
   "metadata": {},
   "source": [
    "<p style='text-align: justify;'>\n",
    "<strong>os.system(command)</strong> method execute the command (a string) in a subshell. This method is implemented by calling the Standard C function system. If command generates any output, it is sent to the interpreter standard output stream. Whenever this method is used then the respective shell of the Operating system is opened and the command is executed on it. The command parameter indicates which command to execute.\n",
    "</p>\n",
    "\n",
    "The <strong>mkdir</strong> command allows users to create or make new directories. mkdir stands for “make directory”."
   ]
  },
  {
   "cell_type": "code",
   "execution_count": null,
   "metadata": {},
   "outputs": [],
   "source": [
    "folder_demo = 'atlas-data'\n",
    "\n",
    "if os.path.exists(directory0+\"/atlas-data\"):\n",
    "    print(\"The folder exists\")\n",
    "else:\n",
    "    command = 'mkdir '+folder_demo\n",
    "    os.system(command)"
   ]
  },
  {
   "cell_type": "markdown",
   "metadata": {},
   "source": [
    "Show the contents in the current folder, and check your new folder is there.\n",
    "\n",
    "Commands:\n",
    "<p style='text-align: justify;'>\n",
    "'ls' with no option list files and directories in bare format where we won’t be able to view details like file types, size, modified date and time, permission and links etc.\n",
    "</p>\n",
    "\n",
    "The command <strong>'ls lhrt'</strong> shows the last modified documents."
   ]
  },
  {
   "cell_type": "code",
   "execution_count": null,
   "metadata": {},
   "outputs": [],
   "source": [
    "myCmd = os.popen('ls -lhrt').read()\n",
    "print(myCmd)"
   ]
  },
  {
   "cell_type": "markdown",
   "metadata": {},
   "source": [
    "Print the current path/location.\n",
    "<p style='text-align: justify;'>\n",
    "The <strong>pwd</strong> command stands for print working directory. When invoked the command prints the complete path of the current working directory.\n",
    "</p>"
   ]
  },
  {
   "cell_type": "code",
   "execution_count": null,
   "metadata": {},
   "outputs": [],
   "source": [
    "myCmd = os.popen('pwd').read()\n",
    "print(myCmd)"
   ]
  },
  {
   "cell_type": "markdown",
   "metadata": {},
   "source": [
    "Get into the folder which we just created. \n",
    "\n",
    "Use the <strong>chdir</strong> command to change to another directory. The syntax is chdir followed by the name of the directory you want to go to."
   ]
  },
  {
   "cell_type": "code",
   "execution_count": null,
   "metadata": {},
   "outputs": [],
   "source": [
    "os.chdir(folder_demo+\"/\")"
   ]
  },
  {
   "cell_type": "markdown",
   "metadata": {},
   "source": [
    "Print the current path and check that you are really there."
   ]
  },
  {
   "cell_type": "code",
   "execution_count": null,
   "metadata": {},
   "outputs": [],
   "source": [
    "myCmd = os.popen('pwd').read()\n",
    "print(myCmd)"
   ]
  },
  {
   "cell_type": "markdown",
   "metadata": {},
   "source": [
    "Setting the path as a variable."
   ]
  },
  {
   "cell_type": "code",
   "execution_count": null,
   "metadata": {},
   "outputs": [],
   "source": [
    "directory1 = os.getcwd()\n",
    "print(directory1)"
   ]
  },
  {
   "cell_type": "markdown",
   "metadata": {},
   "source": [
    "#### Clone the analysis code\n",
    "\n",
    "If it is the first time the notebook is run, the data is cloned. Otherwise, it warns that the data already exists.\n",
    "\n",
    "The frameworks implement the protocols needed for reading the datasets, making an analysis selection, writing out histograms and plotting the results.\n",
    "\n",
    "<p style='text-align: justify;'>\n",
    "<strong>os.path</strong> is a module implements some useful functions on pathnames. The path parameters can be passed as either strings, or bytes. The os.path module is always the path module suitable for the operating system Python is running on, and therefore usable for local paths. \n",
    "</p>\n",
    "\n",
    "**os.path.exists** os.path is checking if the path physically exists."
   ]
  },
  {
   "cell_type": "code",
   "execution_count": null,
   "metadata": {},
   "outputs": [],
   "source": [
    "if os.path.exists(directory1+\"/atlas-outreach-cpp-framework-13tev\"):\n",
    "    print(\"The repository exists\")\n",
    "else:\n",
    "    myCmd = os.popen('git clone https://github.com/atlas-outreach-data-tools/atlas-outreach-cpp-framework-13tev.git').read()\n",
    "    print(myCmd)"
   ]
  },
  {
   "cell_type": "markdown",
   "metadata": {},
   "source": [
    "Get into the folder which contains the analysis code."
   ]
  },
  {
   "cell_type": "code",
   "execution_count": null,
   "metadata": {},
   "outputs": [],
   "source": [
    "os.chdir(\"atlas-outreach-cpp-framework-13tev/\")"
   ]
  },
  {
   "cell_type": "markdown",
   "metadata": {},
   "source": [
    "Print the current path and check that you are really there."
   ]
  },
  {
   "cell_type": "code",
   "execution_count": null,
   "metadata": {},
   "outputs": [],
   "source": [
    "myCmd = os.popen('pwd').read()\n",
    "print(myCmd)"
   ]
  },
  {
   "cell_type": "markdown",
   "metadata": {},
   "source": [
    "Let's see the time."
   ]
  },
  {
   "cell_type": "code",
   "execution_count": null,
   "metadata": {},
   "outputs": [],
   "source": [
    "myCmd = os.popen('date').read()\n",
    "print(myCmd)"
   ]
  },
  {
   "cell_type": "markdown",
   "metadata": {},
   "source": [
    "Show the contents in the current folder.\n",
    "\n",
    "The framework consists of two main parts:\n",
    "<p style='text-align: justify;'>\n",
    "    The analysis part, located within the <strong>Analysis directory</strong>: it performs the particular object selection and stores the output histograms.\n",
    "\n",
    "The plotting part, located within the <strong>Plotting directory</strong>: it makes the final Data / Prediction plots.\n",
    "</p>"
   ]
  },
  {
   "cell_type": "code",
   "execution_count": null,
   "metadata": {},
   "outputs": [],
   "source": [
    "myCmd = os.popen('ls -lhrt').read()\n",
    "print(myCmd)"
   ]
  },
  {
   "cell_type": "markdown",
   "metadata": {},
   "source": [
    "Setting the path as a variable."
   ]
  },
  {
   "cell_type": "code",
   "execution_count": null,
   "metadata": {},
   "outputs": [],
   "source": [
    "directory2 = os.getcwd()\n",
    "print(directory2)"
   ]
  },
  {
   "cell_type": "markdown",
   "metadata": {},
   "source": [
    "**Output folders**\n",
    "<p style='text-align: justify;'>\n",
    "Create the output folders where the analysis results will be stored. If it is the first time the notebook is run, the output folders will be created. Otherwise, they are reported to already exist. As all the output folders are created at the same time in the next two cells it is verified that they were created using any of the folders of the 12 data examples.\n",
    "</p>\n",
    "\n",
    "<p style='text-align: justify;'>\n",
    "<strong>echo</strong> command is used to display line of text/string that are passed as an argument . This is a built in command that is mostly used in shell scripts and batch files to output status text to the screen or a file.\n",
    "</p>\n",
    "\n",
    "<p style='text-align: justify;'>\n",
    "<strong>\"echo \\\"1\\\" | ./welcome.sh\"</strong> : 1 indicates that you want to automatically create all output directories in the 12 analysis subfolders, if you put 0 instead you can delete content if necessary.\n",
    "</p>"
   ]
  },
  {
   "cell_type": "code",
   "execution_count": null,
   "metadata": {},
   "outputs": [],
   "source": [
    "if os.path.exists(directory2+\"/Analysis/ZBosonAnalysis/Output_ZBosonAnalysis\"):\n",
    "    print(\"Folders exists\")\n",
    "else:\n",
    "    command1 = \"echo \\\"1\\\" | ./welcome.sh\"\n",
    "    os.system(command1)"
   ]
  },
  {
   "cell_type": "markdown",
   "metadata": {},
   "source": [
    "Check that the folders were created."
   ]
  },
  {
   "cell_type": "code",
   "execution_count": null,
   "metadata": {},
   "outputs": [],
   "source": [
    "myCmd = os.popen('ls -lhrt Analysis/HZZAnalysis').read()\n",
    "print(myCmd)"
   ]
  },
  {
   "cell_type": "markdown",
   "metadata": {},
   "source": [
    "### Let's run an Analysis now\n",
    "\n",
    "<p style='text-align: justify;'>\n",
    "The naming of the sub-folders follows a simple rule: \"NNAnalysis\", where NN can be WBoson, ZBoson, TTbar, SingleTop, WZDiBoson, ZZDiBoson, HZZ, HWW, Hyy, ZPrimeBoosted, ZTauTau and SUSY. After you enter your choice, you will see the description of the analysis that has been obtained from a pandas dataframe generated from a .csv file with the analysis information. \n",
    "</p>\n",
    "\n",
    "### Select one analysis\n",
    "\n",
    "**analysis_df** is a DataFrame that contains description and explanation about each of the analyzes."
   ]
  },
  {
   "cell_type": "code",
   "execution_count": null,
   "metadata": {},
   "outputs": [],
   "source": [
    "analysis_df = pd.read_csv(f\"{directory0}/notebooks-info/analysis_info.csv\", sep=\"_\").set_index(\"Analysis\")"
   ]
  },
  {
   "cell_type": "markdown",
   "metadata": {},
   "source": [
    "Print all possible analysis options."
   ]
  },
  {
   "cell_type": "code",
   "execution_count": null,
   "metadata": {},
   "outputs": [],
   "source": [
    "print(\"The options are:\\n WBosonAnalysis\\n ZBosonAnalysis\\n TTbarAnalysis\\n SingleTopAnalysis\\n WZDiBosonAnalysis\\n ZZDiBosonAnalysis\\n HZZAnalysis\\n HWWAnalysis\\n ZTauTauAnalysis\\n HyyAnalysis\\n SUSYAnalysis\\n ZPrimeBoostedAnalysis\")"
   ]
  },
  {
   "cell_type": "markdown",
   "metadata": {},
   "source": [
    "The **try except** statement can handle exceptions. Exceptions may happen when you run a program. Exceptions are errors that happen during execution of the program.\n",
    "\n",
    "**try:** the code with the exception(s) to catch. If an exception is raised, it jumps straight into the except block.\n",
    "\n",
    "**except:** this code is only executed if an exception occured in the try block.\n",
    "\n"
   ]
  },
  {
   "cell_type": "code",
   "execution_count": null,
   "metadata": {},
   "outputs": [],
   "source": [
    "while True:\n",
    "    analysis = input(\"Enter your choice: \")\n",
    "    try: \n",
    "        os.chdir(\"Analysis/\"+analysis)\n",
    "        break\n",
    "    except FileNotFoundError:\n",
    "        print(\"Analysis not found\")"
   ]
  },
  {
   "cell_type": "markdown",
   "metadata": {},
   "source": [
    "Show a short description of the selected analysis."
   ]
  },
  {
   "cell_type": "code",
   "execution_count": null,
   "metadata": {},
   "outputs": [],
   "source": [
    "print(analysis_df[\"Description\"].loc[f\"{analysis}\"])"
   ]
  },
  {
   "cell_type": "markdown",
   "metadata": {},
   "source": [
    "Print the current path/location."
   ]
  },
  {
   "cell_type": "code",
   "execution_count": null,
   "metadata": {},
   "outputs": [],
   "source": [
    "myCmd = os.popen('pwd').read()\n",
    "print(myCmd)"
   ]
  },
  {
   "cell_type": "code",
   "execution_count": null,
   "metadata": {},
   "outputs": [],
   "source": [
    "myCmd = os.popen('ls -lhrt').read()\n",
    "print(myCmd)"
   ]
  },
  {
   "cell_type": "markdown",
   "metadata": {},
   "source": [
    "### Run the C++ code now\n",
    "Please, note that we are writing the output in a log file. (This file can be inspected in real time in a terminal).\n",
    "<p style='text-align: justify;'>\n",
    "A bash script (run.sh), executed via a Linux/UNIX shell called source: helps you in running the analysis. The script has two options for the user to select how they want to enhance the analysis.\n",
    "</p>\n",
    "\n",
    "<p style='text-align: justify;'>\n",
    "The first option will ask you: do you want to run over all the samples one-by-one, or to run over only data or only simulated samples? The latter options can help you to speed up the analysis, as you can run several samples in several terminals.\n",
    "</p>\n",
    "\n",
    "<p style='text-align: justify;'>\n",
    "The second option will ask you: do you want to use the Parallel ROOT Facility (PROOF), a ROOT-integrated tool that enables the analysis of the input samples in parallel on a many-core machine? If your ROOT version has PROOF integrated, it will speed up the analysis by a factor of roughly 5.\n",
    "</p>\n",
    "\n",
    "<p style='text-align: justify;'>\n",
    "After you choose the options, the code will compile and create the needed ROOT shared libraries, and the analysis selection will begin: it will run over each input sample defined in main_NNAnalysis.C.\n",
    "</p>\n",
    "\n"
   ]
  },
  {
   "cell_type": "markdown",
   "metadata": {},
   "source": [
    "Setting the path as a variable."
   ]
  },
  {
   "cell_type": "code",
   "execution_count": null,
   "metadata": {},
   "outputs": [],
   "source": [
    "directory3 = os.getcwd()\n",
    "print(directory3)"
   ]
  },
  {
   "cell_type": "markdown",
   "metadata": {},
   "source": [
    "Functions such as **expanduser()** and **expandvars()** can be invoked explicitly when an application desires shell-like path expansion.\n",
    "\n",
    "<p style='text-align: justify;'>\n",
    "<strong>os.path.expanduser()</strong> method in Python is used to expand an initial path component ~(tilde symbol) or ~user in the given path to user’s home directory. On Unix platforms, an initial ~ is replaced by the value of HOME environment variable, if it is set. Otherwise, os.path.expanduser() method search for user’s home directory in password directory using an in-built module pwd. Path containing an initial ~user component is looked up directly in the password directory.\n",
    "</p>"
   ]
  },
  {
   "cell_type": "code",
   "execution_count": null,
   "metadata": {},
   "outputs": [],
   "source": [
    "homedirectory = os.path.expanduser(\"~\")\n",
    "print(homedirectory)"
   ]
  },
  {
   "cell_type": "code",
   "execution_count": null,
   "metadata": {},
   "outputs": [],
   "source": [
    "logPath = directory3.replace(f\"{homedirectory}/\", \"\")\n",
    "print(logPath)"
   ]
  },
  {
   "cell_type": "markdown",
   "metadata": {},
   "source": [
    "**tail:** output the last part of files."
   ]
  },
  {
   "cell_type": "code",
   "execution_count": null,
   "metadata": {},
   "outputs": [],
   "source": [
    "print(f\"Copy all of this command:\\ntail -f {logPath}/log\")"
   ]
  },
  {
   "cell_type": "markdown",
   "metadata": {},
   "source": [
    "<p style='text-align: justify;'>\n",
    "<strong>\"echo \\\"0\\n0\\\" | ./run.sh >log\"</strong> : the first 0 indicates run all data and MC one after another. The second 0 indicates that you don't want to use PROOF.\n",
    "</p>"
   ]
  },
  {
   "cell_type": "code",
   "execution_count": null,
   "metadata": {},
   "outputs": [],
   "source": [
    "command4 = \"echo \\\"0\\n0\\\" | ./run.sh >log\"\n",
    "os.system(command4)"
   ]
  },
  {
   "cell_type": "markdown",
   "metadata": {},
   "source": [
    "If you want, you can paste the command that you just copied to your terminal and see the update of the analysis that you are running on live."
   ]
  },
  {
   "cell_type": "markdown",
   "metadata": {},
   "source": [
    "#### Now the code is done (I hope you see a 0 as output )\n",
    "\n",
    "Get into the Plotting folder. The plotting code is located in the Plotting folder.\n",
    "\n"
   ]
  },
  {
   "cell_type": "code",
   "execution_count": null,
   "metadata": {},
   "outputs": [],
   "source": [
    "os.chdir(\"../../Plotting/\")"
   ]
  },
  {
   "cell_type": "markdown",
   "metadata": {},
   "source": [
    "Print the current path and check that you are really there."
   ]
  },
  {
   "cell_type": "code",
   "execution_count": null,
   "metadata": {},
   "outputs": [],
   "source": [
    "myCmd = os.popen('pwd').read()\n",
    "print(myCmd)"
   ]
  },
  {
   "cell_type": "markdown",
   "metadata": {},
   "source": [
    "### Let's run the Plotting code\n",
    "### Select the right analysis\n",
    "#### The options are:\n",
    "0 = WBosonAnalysis\n",
    "\n",
    "1 = ZBosonAnalysis\n",
    "\n",
    "2 = TTbarAnalysis\n",
    "\n",
    "3 = SingleTopAnalysis\n",
    "\n",
    "4 = WZDiBosonAnalysis\n",
    "\n",
    "5 = ZZDiBosonAnalysis\n",
    "\n",
    "6 = HWWAnalysis\n",
    "\n",
    "7 = HZZAnalysis\n",
    "\n",
    "8 = ZTauTauAnalysis\n",
    "\n",
    "9 = HyyAnalysis\n",
    "\n",
    "10 = SUSYAnalysis\n",
    "\n",
    "11 = ZPrimeBoostedAnalysis"
   ]
  },
  {
   "cell_type": "markdown",
   "metadata": {},
   "source": [
    "Bash script (plotme.sh): helps you in running the plotting code.\n",
    "\n",
    "The script has two options for the user to select how they want to enhance the analysis.\n",
    "\n",
    "<p style='text-align: justify;'>\n",
    "The first option will be: which analysis exactly out of the 12 you want to plot?\n",
    "\n",
    "The second option will ask you for the location of the Output_NNAnalysis directory that was created by running the Analysis code.\n",
    "</p>\n",
    "\n",
    "<p style='text-align: justify;'>\n",
    "After you choose the options, the code will compile and create the needed ROOT shared libraries, and the plotting will begin. If everything was successful, the code will create in the output directory (histograms) the corresponding plots defined in HistoList_ANALYSISNAME.txt.\n",
    "</p>\n",
    "\n",
    "<p style='text-align: justify;'>\n",
    "<strong>\"echo \\\"9\\n0\\\" | ./plotme.sh\"</strong> : The first number indicates which of the 12 analyzes you want to use and the second, in this case, 0 indicates that the location of the directory is Output_NNAnalysis.\n",
    "</p>"
   ]
  },
  {
   "cell_type": "code",
   "execution_count": null,
   "metadata": {},
   "outputs": [],
   "source": [
    "while True:\n",
    "    number = input('Choose your analysis. Enter a number: ')\n",
    "    try: \n",
    "        number = int(number)\n",
    "        if 0<= number <=9: \n",
    "            break\n",
    "        else: \n",
    "            print(\"Valid range, please: 0-9.\")\n",
    "    except ValueError:\n",
    "        print(\"Try it again.\")\n",
    "    "
   ]
  },
  {
   "cell_type": "code",
   "execution_count": null,
   "metadata": {},
   "outputs": [],
   "source": [
    "command5 = f\"echo \\\"{number}\\n0\\\" | ./plotme.sh\"\n",
    "os.system(command5)"
   ]
  },
  {
   "cell_type": "markdown",
   "metadata": {},
   "source": [
    "Show histograms created. "
   ]
  },
  {
   "cell_type": "code",
   "execution_count": null,
   "metadata": {},
   "outputs": [],
   "source": [
    "myCmd = os.popen('ls -lhrt histograms/*png').read()\n",
    "print(myCmd)"
   ]
  },
  {
   "cell_type": "markdown",
   "metadata": {},
   "source": [
    "Setting the path as a variable."
   ]
  },
  {
   "cell_type": "code",
   "execution_count": null,
   "metadata": {},
   "outputs": [],
   "source": [
    "directory4 = os.getcwd()"
   ]
  },
  {
   "cell_type": "markdown",
   "metadata": {},
   "source": [
    "#### Show histograms\n",
    "\n",
    "**os.listdir()** method in python is used to get the list of all files and directories in the specified directory.\n",
    "\n"
   ]
  },
  {
   "cell_type": "code",
   "execution_count": null,
   "metadata": {},
   "outputs": [],
   "source": [
    "files = os.listdir(f\"{directory4}/histograms\")\n",
    "for i in files:\n",
    "    path = f\"{directory4}/histograms/{i}\"\n",
    "    image = plt.imread(path)\n",
    "    plt.figure(figsize=(50,30))\n",
    "    plt.imshow(image)\n",
    "    plt.axis(\"off\")\n",
    "    plt.show()"
   ]
  },
  {
   "cell_type": "markdown",
   "metadata": {},
   "source": [
    "Show explanation from the ATLAS Open Data 13 TeV Documentation."
   ]
  },
  {
   "cell_type": "code",
   "execution_count": null,
   "metadata": {},
   "outputs": [],
   "source": [
    "print(analysis_df[\"Explanation\"].loc[f\"{analysis}\"])"
   ]
  },
  {
   "cell_type": "code",
   "execution_count": null,
   "metadata": {},
   "outputs": [],
   "source": [
    "myCmd = os.popen('date').read()\n",
    "print(myCmd)\n",
    "endtime = datetime.datetime.now()\n",
    "print(\"Analysis finished in % 2d min % 2d s\" %(((endtime - starttime).seconds)/60,((endtime - starttime).seconds)%60))"
   ]
  },
  {
   "cell_type": "markdown",
   "metadata": {},
   "source": [
    "## References\n",
    "[OS module](https://docs.python.org/3/library/os.html) \n",
    "\n",
    "[datetime module](https://docs.python.org/3/library/datetime.html) \n",
    "\n",
    "[ROOT](https://root.cern/primer/) \n",
    "\n",
    "[pandas](https://pandas.pydata.org/pandas-docs/stable/) \n",
    "\n",
    "[matplotlib.pyplot](https://matplotlib.org/stable/tutorials/introductory/pyplot.html)\n",
    "\n",
    "[try except](https://pythonbasics.org/try-except/)\n",
    "\n",
    "[ATLAS_OpenData_13-TeV_python_full_HyyAnalysis_5min.ipynb](https://github.com/atlas-outreach-data-tools/notebooks-collection-opendata/blob/master/13-TeV-examples/python/ATLAS_OpenData_13-TeV_python_full_HyyAnalysis_5min.ipynb)\n"
   ]
  }
 ],
 "metadata": {
  "kernelspec": {
   "display_name": "Python 3",
   "language": "python",
   "name": "python3"
  },
  "language_info": {
   "codemirror_mode": {
    "name": "ipython",
    "version": 3
   },
   "file_extension": ".py",
   "mimetype": "text/x-python",
   "name": "python",
   "nbconvert_exporter": "python",
   "pygments_lexer": "ipython3",
   "version": "3.7.3"
  }
 },
 "nbformat": 4,
 "nbformat_minor": 1
}
